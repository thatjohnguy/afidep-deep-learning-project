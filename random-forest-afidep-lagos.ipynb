{
 "cells": [
  {
   "cell_type": "code",
   "execution_count": 1,
   "id": "2c7f9edc-4e4b-4e04-9b5f-c78f36a1292c",
   "metadata": {},
   "outputs": [],
   "source": [
    "import numpy as np # linear algebra\n",
    "import pandas as pd # data processing, CSV file I/O (e.g. pd.read_csv)\n",
    "import matplotlib.pyplot as plt # for data visualization\n",
    "import seaborn as sns # for statistical data visualization\n",
    "%matplotlib inline\n",
    "\n",
    "from sklearn.preprocessing import LabelEncoder\n",
    "\n",
    "from dataset_dir import excel_dir,stata_dir"
   ]
  },
  {
   "cell_type": "code",
   "execution_count": 2,
   "id": "a693c4b7-377b-4d01-8391-4a2b2ac658c5",
   "metadata": {},
   "outputs": [],
   "source": [
    "import warnings\n",
    "warnings.filterwarnings('ignore')"
   ]
  },
  {
   "cell_type": "code",
   "execution_count": 3,
   "id": "3c00100c-c224-47d6-ac26-029714b553bd",
   "metadata": {},
   "outputs": [],
   "source": [
    "pd.io.formats.excel.ExcelFormatter.header_style = None\n",
    "pd.options.display.max_rows = None\n",
    "pd.options.display.max_columns = None\n",
    "r=pd.read_stata(stata_dir()+\"Teamup_women_Dataset_Lagos.dta\",convert_categoricals=False)\n",
    "r=r[r['level2']==7]"
   ]
  },
  {
   "cell_type": "code",
   "execution_count": 4,
   "id": "6b05e863-692e-4ef2-9385-8177ef356137",
   "metadata": {},
   "outputs": [],
   "source": [
    "data=r.copy()\n",
    "cut_starting=list(data.columns[:26])\n",
    "cut_ending=list(data.columns[-23:])\n",
    "for i,j in enumerate(cut_ending):\n",
    "    if(j==\"instanceid\"):\n",
    "        del cut_ending[i]\n",
    "    \n",
    "\n",
    "for c in cut_starting:\n",
    "    del data[c]\n",
    "for c in cut_ending:\n",
    "    del data[c]"
   ]
  },
  {
   "cell_type": "code",
   "execution_count": 5,
   "id": "34d6716e-e3e6-4b94-a868-e7ae94043f63",
   "metadata": {
    "tags": []
   },
   "outputs": [],
   "source": [
    "df=data.copy()"
   ]
  },
  {
   "cell_type": "markdown",
   "id": "a32e27ae-c237-4846-98f0-60e55a960deb",
   "metadata": {},
   "source": [
    "Exploratory data analysis"
   ]
  },
  {
   "cell_type": "code",
   "execution_count": 10,
   "id": "107a249d-76d4-412b-9276-8699a9b4eafb",
   "metadata": {},
   "outputs": [
    {
     "data": {
      "text/plain": [
       "(760, 10470)"
      ]
     },
     "execution_count": 10,
     "metadata": {},
     "output_type": "execute_result"
    }
   ],
   "source": [
    "df.shape"
   ]
  },
  {
   "cell_type": "code",
   "execution_count": 11,
   "id": "525d98d2-db11-4a81-be6a-3f6e84081813",
   "metadata": {},
   "outputs": [
    {
     "name": "stdout",
     "output_type": "stream",
     "text": [
      "<class 'pandas.core.frame.DataFrame'>\n",
      "Int64Index: 760 entries, 0 to 2287\n",
      "Columns: 10470 entries, resp_select to instanceid\n",
      "dtypes: float64(1449), int8(8749), object(272)\n",
      "memory usage: 16.3+ MB\n"
     ]
    }
   ],
   "source": [
    "df.info()"
   ]
  },
  {
   "cell_type": "markdown",
   "id": "a0b3cda8-ed19-450d-a7cd-214aad032135",
   "metadata": {},
   "source": [
    "Drop redundant features"
   ]
  },
  {
   "cell_type": "code",
   "execution_count": 6,
   "id": "ac007aa4-66b1-4697-b9d7-34d43ac86ff5",
   "metadata": {
    "tags": []
   },
   "outputs": [],
   "source": [
    "red=[]\n",
    "for i in df.columns:\n",
    "    if(df[i].isnull().sum()==df.shape[0]):\n",
    "        red.append(i)\n",
    "for i in red:\n",
    "    del df[i]"
   ]
  },
  {
   "cell_type": "code",
   "execution_count": 7,
   "id": "48bfa062-61dc-420b-b34a-503104cf628f",
   "metadata": {},
   "outputs": [
    {
     "data": {
      "text/plain": [
       "(760, 9824)"
      ]
     },
     "execution_count": 7,
     "metadata": {},
     "output_type": "execute_result"
    }
   ],
   "source": [
    "df.shape"
   ]
  },
  {
   "cell_type": "markdown",
   "id": "8bbcf432-805c-4640-a27a-85e116d79870",
   "metadata": {
    "jupyter": {
     "outputs_hidden": true
    },
    "tags": []
   },
   "source": [
    "fill missing values with special number"
   ]
  },
  {
   "cell_type": "code",
   "execution_count": 8,
   "id": "07646890-276d-4ce2-a18e-163200173d1b",
   "metadata": {
    "tags": []
   },
   "outputs": [],
   "source": [
    "for i in df.columns:\n",
    "    df[i]=df[i].fillna(-91)"
   ]
  },
  {
   "cell_type": "code",
   "execution_count": 9,
   "id": "f99fb243-8330-4379-baea-b6211b90a856",
   "metadata": {},
   "outputs": [
    {
     "data": {
      "text/plain": [
       "(760, 9824)"
      ]
     },
     "execution_count": 9,
     "metadata": {},
     "output_type": "execute_result"
    }
   ],
   "source": [
    "df.shape"
   ]
  },
  {
   "cell_type": "code",
   "execution_count": 10,
   "id": "e61c7eb2-211a-4306-9841-e78d11be8efd",
   "metadata": {},
   "outputs": [],
   "source": [
    "y=pd.read_excel(excel_dir()+\"y.xlsx\")"
   ]
  },
  {
   "cell_type": "code",
   "execution_count": 11,
   "id": "66639bd4-dbba-47e7-a6e1-746825afbe40",
   "metadata": {},
   "outputs": [],
   "source": [
    "y_ids=y['Respondent ID']"
   ]
  },
  {
   "cell_type": "code",
   "execution_count": 13,
   "id": "b65486c9-3696-4c4f-a5d6-bd7fcbcf8fc4",
   "metadata": {},
   "outputs": [],
   "source": [
    "a=df[df['resp_select'].isin(y_ids)]\n",
    "b=df[~df['resp_select'].isin(y_ids)]"
   ]
  },
  {
   "cell_type": "code",
   "execution_count": 16,
   "id": "769321ac-b8b1-41e8-8032-a7c69a00afd0",
   "metadata": {},
   "outputs": [
    {
     "data": {
      "text/plain": [
       "760"
      ]
     },
     "execution_count": 16,
     "metadata": {},
     "output_type": "execute_result"
    }
   ],
   "source": [
    "b.shape[0]+a.shape[0]"
   ]
  },
  {
   "cell_type": "code",
   "execution_count": 17,
   "id": "5756e1ee-3d49-4c05-98f8-9aa39c439634",
   "metadata": {},
   "outputs": [],
   "source": [
    "target=y[['Respondent ID','profile']]\n",
    "target['resp_select']=y['Respondent ID']\n",
    "del target['Respondent ID']"
   ]
  },
  {
   "cell_type": "code",
   "execution_count": 39,
   "id": "37364b8d-1b6b-4039-9e23-5d145be77946",
   "metadata": {
    "tags": []
   },
   "outputs": [],
   "source": [
    "m=pd.merge(a,target,how='right',on='resp_select')"
   ]
  },
  {
   "cell_type": "code",
   "execution_count": 40,
   "id": "8cb51f4c-f4b5-4a78-a702-ea228ecb7f58",
   "metadata": {},
   "outputs": [
    {
     "data": {
      "text/plain": [
       "(107, 9825)"
      ]
     },
     "execution_count": 40,
     "metadata": {},
     "output_type": "execute_result"
    }
   ],
   "source": [
    "m.shape"
   ]
  },
  {
   "cell_type": "markdown",
   "id": "4b36ae92-cfaa-47f2-9e61-94dd2fa080b2",
   "metadata": {},
   "source": [
    "declare vector and target variables"
   ]
  },
  {
   "cell_type": "code",
   "execution_count": 41,
   "id": "30d3a061-70c6-4c20-b60b-65aa36b73d9a",
   "metadata": {},
   "outputs": [],
   "source": [
    "del m['res_name']\n",
    "del m['ward']\n",
    "del m['hh_name']\n",
    "del m['q102']\n",
    "del m['q106_cal']\n",
    "del m['q211_strategy1']\n",
    "del m['instanceid']\n",
    "del m['resp_select']\n",
    "del m['strat_lab1']\n",
    "\n",
    "for i in m.columns:\n",
    "    if(i[0]==\"v\"):\n",
    "        del m[i]\n",
    "for i in m.columns:\n",
    "    if('strategy' in i):\n",
    "        del m[i]\n",
    "for i in m.columns:\n",
    "    if('cal' in i):\n",
    "        del m[i]\n",
    "for i in m.columns:\n",
    "    if('lab' in i):\n",
    "        del m[i]\n",
    "m=m.replace('',-91)\n",
    "for i in m.columns:\n",
    "    if(i!='profile'):\n",
    "        if(m[i].dtype=='object'):\n",
    "            del m[i]\n",
    "\n",
    "for i in m.columns:\n",
    "    if(i!='profile'):\n",
    "        m[i]=m[i].astype(int)   \n",
    "\n",
    "le = LabelEncoder()\n",
    "\n",
    "m['profile'] = le.fit_transform(m['profile'])\n",
    "\n"
   ]
  },
  {
   "cell_type": "code",
   "execution_count": 42,
   "id": "091616dc-6fc6-4f73-a1d8-cef838ed08a4",
   "metadata": {},
   "outputs": [],
   "source": [
    "X = m.iloc[:, :-1].values\n",
    "y = m.iloc[:, -1].values"
   ]
  },
  {
   "cell_type": "code",
   "execution_count": 44,
   "id": "9c12b224-3c27-471a-9181-9489ce584297",
   "metadata": {},
   "outputs": [],
   "source": [
    "from sklearn.model_selection import train_test_split\n",
    "X_train, X_test, y_train, y_test = train_test_split(X, y, test_size = 0.25, random_state = 0)"
   ]
  },
  {
   "cell_type": "code",
   "execution_count": 45,
   "id": "37a49002-270e-47c4-906e-af0c92fd4d23",
   "metadata": {},
   "outputs": [],
   "source": [
    "from sklearn.preprocessing import StandardScaler\n",
    "sc = StandardScaler()\n",
    "X_train = sc.fit_transform(X_train)\n",
    "X_test = sc.transform(X_test)"
   ]
  },
  {
   "cell_type": "code",
   "execution_count": 46,
   "id": "a17c91bb-bfb1-4df3-aadf-25df117bd5fb",
   "metadata": {},
   "outputs": [
    {
     "data": {
      "text/plain": [
       "RandomForestClassifier(criterion='entropy', n_estimators=10, random_state=0)"
      ]
     },
     "execution_count": 46,
     "metadata": {},
     "output_type": "execute_result"
    }
   ],
   "source": [
    "# Training the Random Forest Classification model on the Training set\n",
    "from sklearn.ensemble import RandomForestClassifier\n",
    "classifier = RandomForestClassifier(n_estimators = 10, criterion = 'entropy', random_state = 0)\n",
    "classifier.fit(X_train, y_train)"
   ]
  },
  {
   "cell_type": "code",
   "execution_count": 47,
   "id": "ea6f00ff-98c9-493c-9150-9bf4a7324930",
   "metadata": {},
   "outputs": [
    {
     "name": "stdout",
     "output_type": "stream",
     "text": [
      "[[3 3]\n",
      " [1 1]\n",
      " [3 3]\n",
      " [1 1]\n",
      " [1 1]\n",
      " [3 3]\n",
      " [3 3]\n",
      " [1 1]\n",
      " [1 1]\n",
      " [1 3]\n",
      " [3 3]\n",
      " [1 1]\n",
      " [0 0]\n",
      " [0 0]\n",
      " [3 3]\n",
      " [0 0]\n",
      " [1 1]\n",
      " [0 3]\n",
      " [3 3]\n",
      " [1 0]\n",
      " [3 3]\n",
      " [1 1]\n",
      " [1 1]\n",
      " [1 3]\n",
      " [1 1]\n",
      " [1 1]\n",
      " [1 2]]\n"
     ]
    }
   ],
   "source": [
    "y_pred = classifier.predict(X_test)\n",
    "print(np.concatenate((y_pred.reshape(len(y_pred),1), y_test.reshape(len(y_test),1)),1))"
   ]
  },
  {
   "cell_type": "code",
   "execution_count": 48,
   "id": "32571cde-f4f0-48fb-9462-125c1500c36a",
   "metadata": {},
   "outputs": [
    {
     "name": "stdout",
     "output_type": "stream",
     "text": [
      "[[ 3  1  0  0]\n",
      " [ 0 11  0  0]\n",
      " [ 0  1  0  0]\n",
      " [ 1  2  0  8]]\n"
     ]
    },
    {
     "data": {
      "text/plain": [
       "0.8148148148148148"
      ]
     },
     "execution_count": 48,
     "metadata": {},
     "output_type": "execute_result"
    }
   ],
   "source": [
    "# Making the Confusion Matrix\n",
    "from sklearn.metrics import confusion_matrix, accuracy_score\n",
    "cm = confusion_matrix(y_test, y_pred)\n",
    "print(cm)\n",
    "accuracy_score(y_test, y_pred)"
   ]
  },
  {
   "cell_type": "code",
   "execution_count": null,
   "id": "7279c995-d996-4748-9fde-79934865beb5",
   "metadata": {},
   "outputs": [],
   "source": []
  }
 ],
 "metadata": {
  "kernelspec": {
   "display_name": "Python 3 (ipykernel)",
   "language": "python",
   "name": "python3"
  },
  "language_info": {
   "codemirror_mode": {
    "name": "ipython",
    "version": 3
   },
   "file_extension": ".py",
   "mimetype": "text/x-python",
   "name": "python",
   "nbconvert_exporter": "python",
   "pygments_lexer": "ipython3",
   "version": "3.9.12"
  }
 },
 "nbformat": 4,
 "nbformat_minor": 5
}
