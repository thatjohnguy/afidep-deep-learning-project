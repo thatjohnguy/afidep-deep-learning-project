{
 "cells": [
  {
   "cell_type": "code",
   "execution_count": 1,
   "id": "a613ada9-3243-4ece-ba35-087756bc2a18",
   "metadata": {
    "tags": []
   },
   "outputs": [],
   "source": [
    "import pandas as pd\n",
    "import numpy as np\n",
    "from dataset_dir import stata_dir\n",
    "from dataset_dir import excel_dir\n",
    "import os\n",
    "import seaborn as sns\n",
    "from pandas_profiling import ProfileReport\n",
    "import datetime\n",
    "date_today= datetime.date.today()"
   ]
  },
  {
   "cell_type": "code",
   "execution_count": 2,
   "id": "7052c33a-5d9e-4e65-bb7a-09fade577cd7",
   "metadata": {},
   "outputs": [],
   "source": [
    "pd.io.formats.excel.ExcelFormatter.header_style = None"
   ]
  },
  {
   "cell_type": "code",
   "execution_count": 3,
   "id": "3b0cfa25-cb66-4514-aee7-58389bdd7954",
   "metadata": {},
   "outputs": [],
   "source": [
    "pd.options.display.max_rows = None\n",
    "pd.options.display.max_columns = None"
   ]
  },
  {
   "cell_type": "code",
   "execution_count": 4,
   "id": "ec0cce59-c281-4d32-8aba-e31431f2df49",
   "metadata": {
    "tags": []
   },
   "outputs": [],
   "source": [
    "r=pd.read_stata(stata_dir()+\"Teamup_Women_Dataset_cleanv4.dta\",convert_categoricals=False)"
   ]
  },
  {
   "cell_type": "code",
   "execution_count": 5,
   "id": "30e3fa93-aa1a-4f7b-ac78-f0bcd642ed37",
   "metadata": {},
   "outputs": [
    {
     "data": {
      "text/plain": [
       "(1530, 10400)"
      ]
     },
     "execution_count": 5,
     "metadata": {},
     "output_type": "execute_result"
    }
   ],
   "source": [
    "# r=r.loc[(r['level1']=='nigeria') & (r['consent']==1) & (r['result']==1) ]\n",
    "r.shape"
   ]
  },
  {
   "cell_type": "code",
   "execution_count": 7,
   "id": "96c2f61f-7a46-4075-bbf8-a4672a79f856",
   "metadata": {
    "collapsed": true,
    "jupyter": {
     "outputs_hidden": true
    },
    "tags": []
   },
   "outputs": [],
   "source": [
    "# r.result"
   ]
  },
  {
   "cell_type": "code",
   "execution_count": 6,
   "id": "fabe334a-3887-4a30-9c79-3ef7b38eb374",
   "metadata": {},
   "outputs": [],
   "source": [
    "strategies={1:'Withdrawal',9:'Rhythm',5:'Herbs'}\n"
   ]
  },
  {
   "cell_type": "code",
   "execution_count": 53,
   "id": "f716fe2e-ddef-4316-a1a7-32114e92df99",
   "metadata": {
    "tags": []
   },
   "outputs": [
    {
     "name": "stdout",
     "output_type": "stream",
     "text": [
      "hello67\n"
     ]
    }
   ],
   "source": [
    "x=6;y=7\n",
    "v=\"hello%s%s\"%(x,y)\n",
    "print(v)"
   ]
  },
  {
   "cell_type": "code",
   "execution_count": 14,
   "id": "cdea55d3-74a1-41ec-972d-d88bbe04b208",
   "metadata": {
    "tags": []
   },
   "outputs": [],
   "source": [
    "def replace_yesno(col_name,m):\n",
    "    m[col_name]=m[col_name].replace(1,\"Yes\")\n",
    "    m[col_name]=m[col_name].replace(0,\"No\")\n",
    "    return m\n",
    "\n",
    "def replace_degree(col_name,m):\n",
    "    m[col_name]=m[col_name].replace(1,\"All the time\")\n",
    "    m[col_name]=m[col_name].replace(2,\"Most of the time\")\n",
    "    m[col_name]=m[col_name].replace(3,\"Half of the time\")\n",
    "    m[col_name]=m[col_name].replace(4,\"Rarely\")\n",
    "    m[col_name]=m[col_name].replace(5,\"Once\")\n",
    "    \n",
    "    \n",
    "    \n",
    "\n",
    "\n",
    "# def replaceables(m):\n",
    "#     replace_yesno('used a strategy in 6 mth q209b',m)\n",
    "#     replace_yesno('used a strategy in 1 mth q209a',m)\n",
    "#     replace_yesno('used withdrawal in last 1 mth q211a_1',m)\n",
    "#     replace_yesno('used withdrawal in last 6 mth q215_1',m)\n",
    "#     replace_yesno('still using withdrawal[1st selection] q220d_1',m)\n",
    "#     replace_yesno('still using withdrawal[2nd selection] q221d_1',m)\n",
    "#     replace_yesno('probe: used withdrawal in last 1 month q211c_1',m) \n",
    "#     replace_yesno('probe: used withdrawal in last 6 month q216c_1',m) \n",
    "#     replace_yesno('used withdrawal with other method q220g_1[1st selection]',m)\n",
    "#     replace_yesno('used withdrawal with other method q221g_1[2nd selection]',m)\n",
    "#     replace_yesno('when you stopped withdrawal, did you start another strat? q220f_1',m)\n",
    "#     replace_yesno('when you stopped withdrawal, did you start another strat? q221f_1',m)\n",
    "#     replace_yesno('ever used withdrawal q224_1',m)\n",
    "#     replace_degree('how often used withdrawal in 6 months q220a_1',m)\n",
    "#     replace_degree('how often used withdrawal with other strategy q220i_1',m)\n",
    "#     return m\n",
    "\n"
   ]
  },
  {
   "cell_type": "code",
   "execution_count": 25,
   "id": "862363a8-bcad-4d61-9c8b-628d494a84d1",
   "metadata": {},
   "outputs": [
    {
     "name": "stdout",
     "output_type": "stream",
     "text": [
      "Profiles for Withdrawal Generated!\n",
      "Profiles for Abstinence_Rhythm Generated!\n",
      "Profiles for counting_plus Generated!\n",
      "Profiles for concoctions Generated!\n",
      "Profiles for herbs Generated!\n",
      "Profiles for Rings_amulets_charms_and_waist_strings Generated!\n",
      "Profiles for Lactational_Amenorrhea_method Generated!\n",
      "Profiles for Non_LAM_breastfeeding Generated!\n",
      "Profiles for Standard_days_method Generated!\n",
      "Profiles for Cervical_mucus_strategy Generated!\n",
      "Profiles for basal_body_temperature_strategy Generated!\n",
      "Profiles for Douching Generated!\n",
      "Profiles for Drinking_a_cold_drink Generated!\n",
      "Profiles for Taking_a_cold_shower Generated!\n",
      "Profiles for Masturbation Generated!\n",
      "Profiles for Sex_Toys_Aids Generated!\n",
      "Profiles for Intercrural_sex Generated!\n",
      "Profiles for Oral_sex Generated!\n",
      "Profiles for Anal_sex Generated!\n"
     ]
    }
   ],
   "source": [
    "strategies={1:'Withdrawal',2:'Abstinence_Rhythm',3:'counting_plus',4:'concoctions',\n",
    "            5:'herbs',6:'Rings_amulets_charms_and_waist_strings',7:'Lactational_Amenorrhea_method',\n",
    "            8:'Non_LAM_breastfeeding',9:'Standard_days_method',10:'Cervical_mucus_strategy',\n",
    "            11:'basal_body_temperature_strategy',21:'Douching',22:'Drinking_a_cold_drink',23:'Taking_a_cold_shower',24:'Masturbation',25:'Sex_Toys_Aids',26:'Intercrural_sex',27:'Oral_sex',28:'Anal_sex'}\n",
    "check_population=[]\n",
    "def new_profiles(data):\n",
    "    for k,v in zip(data.keys(),data.values()):\n",
    "        k=str(k)\n",
    "        select_cols=['q221i_%s'%k,'q221a_%s'%k,'q221g_%s'%k,'q220f_%s'%k,'q221f_%s'%k,'q221d_%s'%k,'q216c_%s'%k,'q209a','q209b','q211a_%s'%k,'q215_%s'%k,'q220d_%s'%k,'q220a_%s'%k,'q220g_%s'%k,'q211c_%s'%k,'q220i_%s'%k,'q224_%s'%k,'resp_select'] \n",
    "        def replaceables(m):\n",
    "            replace_yesno('Used any strategy in the last 2-6 months (q209b)',m)\n",
    "            replace_yesno('Used any strategy in the last 1 month (q209a)',m)\n",
    "            replace_yesno('Used %s in the last 1 month (q211a_%s)'%(v,k),m)\n",
    "            replace_yesno('Used %s in last 2-6 months (q215_%s)'%(v,k),m)\n",
    "            replace_yesno('Still using %s[1st selection] (q220d_%s)'%(v,k),m)\n",
    "            replace_yesno('Still using %s[2nd selection] (q221d_%s)'%(v,k),m)\n",
    "            replace_yesno('Probe: used %s in the last 1 month (q211c_%s)'%(v,k),m) \n",
    "            replace_yesno('Probe: used %s in last 2-6 months (q216c_%s)'%(v,k),m) \n",
    "            replace_yesno('Used %s with another strategy[1st selection] (q220g_%s)'%(v,k),m)\n",
    "            replace_yesno('Used %s with another strategy[2nd selection] (q221g_%s)'%(v,k),m)\n",
    "            replace_yesno('When you stopped using %s, did you start using another strategy? (q220f_%s)'%(v,k),m)\n",
    "            replace_yesno('When you stopped using %s, did you start using another strategy? (q221f_%s)'%(v,k),m)\n",
    "            replace_yesno('From any time in the past, ever used %s (q224_%s)'%(v,k),m)\n",
    "            replace_degree('How often respondent used %s in the last 2-6 months [1st selection] (q220a_%s)'%(v,k),m)\n",
    "            replace_degree('How often respondent used %s in the last 2-6 months [2nd selection] (q221a_%s)'%(v,k),m)\n",
    "            replace_degree('How often respondent used %s with another strategy [1st selection] (q220i_%s)'%(v,k),m)\n",
    "            replace_degree('How often respondent used %s with another strategy [2nd selection] (q221i_%s)'%(v,k),m)\n",
    "            return m        \n",
    "        \n",
    "        \n",
    "        \n",
    "        \n",
    "        \n",
    "        \n",
    "        \n",
    "        def gen_df(n):\n",
    "            holder=pd.DataFrame({'id':n['resp_select'],\n",
    "                'Used any strategy in the last 1 month (q209a)':n['q209a'],\n",
    "                             'Used any strategy in the last 2-6 months (q209b)':n['q209b'],\n",
    "                             'Used %s in the last 1 month (q211a_%s)'%(v,k):n['q211a_%s'%k],\n",
    "                             'Used %s in last 2-6 months (q215_%s)'%(v,k):n['q215_%s'%k],\n",
    "                             'Still using %s[1st selection] (q220d_%s)'%(v,k):n['q220d_%s'%k],\n",
    "                             'Still using %s[2nd selection] (q221d_%s)'%(v,k):n['q221d_%s'%k],\n",
    "                             'When you stopped using %s, did you start using another strategy? (q220f_%s)'%(v,k):n['q220f_%s'%k],\n",
    "                             'When you stopped using %s, did you start using another strategy? (q221f_%s)'%(v,k):n['q221f_%s'%k],\n",
    "\n",
    "                            'Probe: used %s in the last 1 month (q211c_%s)'%(v,k):n['q211c_%s'%k],\n",
    "                                 'Probe: used %s in last 2-6 months (q216c_%s)'%(v,k):n['q216c_%s'%k],\n",
    "                             'How often respondent used %s in the last 2-6 months [1st selection] (q220a_%s)'%(v,k):n['q220a_%s'%k],\n",
    "                             'How often respondent used %s in the last 2-6 months [2nd selection] (q221a_%s)'%(v,k):n['q221a_%s'%k],\n",
    "                             'Used %s with another strategy[1st selection] (q220g_%s)'%(v,k):n['q220g_%s'%k],\n",
    "                             'Used %s with another strategy[2nd selection] (q221g_%s)'%(v,k):n['q221g_%s'%k],\n",
    "                             'How often respondent used %s with another strategy [1st selection] (q220i_%s)'%(v,k):n['q220i_%s'%k],\n",
    "                             'How often respondent used %s with another strategy [2nd selection] (q221i_%s)'%(v,k):n['q221i_%s'%k],\n",
    "                             'From any time in the past, ever used %s (q224_%s)'%(v,k):n['q224_%s'%k]   \n",
    "                                })\n",
    "            return holder\n",
    "   # ------------------------------------------------------------------------------------------------     \n",
    "        #                                     CONSISTENT EXCLUSIVE or CONSISTENT USER\n",
    "   # ------------------------------------------------------------------------------------------------  \n",
    "        n=r.loc[\n",
    "        ((r['q211a_%s'%k]==1.0) |(r['q211c_%s'%k]==1.0) | (r['q215_%s'%k]==1.0) | (r['q216c_%s'%k]==1.0)) #respondent used target strategy in last 1-6 months\n",
    "        &\n",
    "        ((r['q220a_%s'%k]==1.0) | (r['q220a_%s'%k]==2.0) | (r['q221a_%s'%k]==1.0) | (r['q221a_%s'%k]==2.0))#how often you used withdrawal in last 6 months\n",
    "        &\n",
    "        ((r['q220f_%s'%k]!=1.0) & (r['q221f_%s'%k]!=1.0)) #didnt switch to another strategy   \n",
    "        # &\n",
    "        # (r['q220a_%s'%k].notnull())\n",
    "        &\n",
    "        ((r['q220g_%s'%k]==0.0) | (r['q221g_%s'%k]==0.0)) #used withdrawal with other method\n",
    "        ][select_cols]\n",
    "\n",
    "        ce=gen_df(n)\n",
    "   # ------------------------------------------------------------------------------------------------     \n",
    "        #                                     INCONSISTENT EXCLUSIVE or INCONSISTENT USER\n",
    "   # ------------------------------------------------------------------------------------------------    \n",
    "        n=r.loc[\n",
    "        ((r['q211a_%s'%k]==1.0) |(r['q211c_%s'%k]==1.0) | (r['q215_%s'%k]==1.0) | (r['q216c_%s'%k]==1.0)) #respondent used target strategy in last 1-6 months\n",
    "        &\n",
    "        ((r['q220a_%s'%k]==3.0) | (r['q220a_%s'%k]==4.0) |(r['q220a_%s'%k]==5.0) | (r['q221a_%s'%k]==3.0) | (r['q221a_%s'%k]==4.0) | (r['q221a_%s'%k]==5.0))#how often you used withdrawal in last 6 months\n",
    "        &\n",
    "        ((r['q220f_%s'%k]!=1.0) & (r['q221f_%s'%k]!=1.0)) #didnt switch to another strategy   \n",
    "        # &\n",
    "        # (r['q220a_%s'%k].notnull())\n",
    "        &\n",
    "        ((r['q220g_%s'%k]==0.0) | (r['q221g_%s'%k]==0.0)) #used withdrawal with other method\n",
    "        ][select_cols]\n",
    "\n",
    "        ie=gen_df(n)\n",
    "   # ------------------------------------------------------------------------------------------------     \n",
    "\n",
    "#                               CONSISTENT CONCURRENT or CONSURRENT USER\n",
    "# --------------------------------------------------------------------------------------------\n",
    "\n",
    "        n=r.loc[\n",
    "        ((r['q211a_%s'%k]==1.0) |(r['q211c_%s'%k]==1.0) | (r['q215_%s'%k]==1.0) | (r['q216c_%s'%k]==1.0)) #respondent used withdrawal in last 6 months\n",
    "        # &\n",
    "        # ((r['q220a_%s'%k]==1.0) | (r['q220a_%s'%k]==2.0) | (r['q221a_%s'%k]==1.0) | (r['q221a_%s'%k]==2.0) | (r['q221a_%s'%k].isna()) )#respondent uses withdrawal with another method ALL OF THE TIME or MOST OF THE TIME\n",
    "        &\n",
    "        ((r['q220g_%s'%k]==1.0) | (r['q221g_%s'%k]==1.0)) #used strategy with other strategy\n",
    "        &\n",
    "        ((r['q220d_%s'%k]==1.0) | (r['q221d_%s'%k]==1.0)) #Still using strategy\n",
    "\n",
    "        \n",
    "#         &\n",
    "#         ((r['q220i_%s'%k]==1.0) | (r['q220i_%s'%k]==2.0) | (r['q221i_%s'%k]==1.0) | (r['q221i_%s'%k]==2.0) | (r['q221a_%s'%k].isna()))#respondent uses withdrawal with another method ALL OF THE TIME or MOST OF THE TIME\n",
    " \n",
    "        ][select_cols]\n",
    "\n",
    "        cc=gen_df(n)\n",
    "        \n",
    "   # ------------------------------------------------------------------------------------------------     \n",
    "        #                                     CONSISTENT SPORADIC\n",
    "   # ------------------------------------------------------------------------------------------------  \n",
    "\n",
    "        n=r.loc[\n",
    "        ((r['q211a_%s'%k]==1.0) |(r['q211c_%s'%k]==1.0) | (r['q215_%s'%k]==1.0) | (r['q216c_%s'%k]==1.0)) #respondent used withdrawal in last 6 months\n",
    "        &\n",
    "        ((r['q220a_%s'%k]==1.0) | (r['q220a_%s'%k]==2.0) | (r['q221a_%s'%k]==1.0) | (r['q221a_%s'%k]==2.0) )#respondent uses withdrawal with another method ALL OF THE TIME or MOST OF THE TIME\n",
    "        &\n",
    "        ((r['q220i_%s'%k]==3.0) | (r['q220i_%s'%k]==4.0) | (r['q221i_%s'%k]==3.0) | (r['q221i_%s'%k]==4.0) )#respondent uses withdrawal with another method ALL OF THE TIME or MOST OF THE TIME\n",
    "        #  &\n",
    "        # ((r['q221i_%s'%k].notna() & (r['q221i_%s'%k].notna()))\n",
    "        ][select_cols]\n",
    "\n",
    "        cs=gen_df(n)\n",
    "   # ------------------------------------------------------------------------------------------------     \n",
    "        #                                     INCONSISTENT SPORADIC\n",
    "   # ------------------------------------------------------------------------------------------------ \n",
    "        n=r.loc[\n",
    "        ((r['q211a_%s'%k]==1.0) |(r['q211c_%s'%k]==1.0) | (r['q215_%s'%k]==1.0) | (r['q216c_%s'%k]==1.0)) #respondent used withdrawal in last 6 months\n",
    "        &\n",
    "        ((r['q220a_%s'%k]==3.0) | (r['q220a_%s'%k]==4.0) | (r['q221a_%s'%k]==3.0) | (r['q221a_%s'%k]==4.0) )#respondent uses withdrawal with another method ALL OF THE TIME or MOST OF THE TIME\n",
    "        &\n",
    "        ((r['q220i_%s'%k]==3.0) | (r['q220i_%s'%k]==4.0) | (r['q221i_%s'%k]==3.0) | (r['q221i_%s'%k]==4.0) )#respondent uses withdrawal with another method ALL OF THE TIME or MOST OF THE TIME\n",
    "        #  &\n",
    "        ][select_cols]\n",
    "\n",
    "        _is=gen_df(n)\n",
    "   # ------------------------------------------------------------------------------------------------       \n",
    "                #                                        DISCONTINUED or STOPPERS\n",
    "   # ------------------------------------------------------------------------------------------------    \n",
    "        \n",
    "        n=r.loc[\n",
    "        ((r['q220d_%s'%k]==0) | (r['q221d_%s'%k]==0)) #stopped using target strategy\n",
    "        &\n",
    "        ((r['q220f_%s'%k]==0) | (r['q221f_%s'%k]==0)) #didnt switch to another strategy    \n",
    "         &\n",
    "        ((r['q211a_%s'%k]==0) | (r['q211c_%s'%k]==0)) #didnt use target strategy in the last 1 month\n",
    "        &\n",
    "        (r['q209a']==0)\n",
    "        \n",
    "\n",
    "        ][select_cols]\n",
    "\n",
    "        d=gen_df(n)\n",
    "   # ------------------------------------------------------------------------------------------------     \n",
    "         #                                        SWITCHED or SWITCHERS\n",
    "   # ------------------------------------------------------------------------------------------------     \n",
    "                                                                                                 \n",
    "       \n",
    "        n=r.loc[\n",
    "\n",
    "        ((r['q220f_%s'%k]==1) | (r['q221f_%s'%k]==1)) #used target strategy and switched to another strategy after stopping\n",
    "        &\n",
    "        ((r['q215_%s'%k]==1) | (r['q216c_%s'%k]==1)) #used target strategy in last 2-6 months   \n",
    "        \n",
    "        ][select_cols]\n",
    "        s=gen_df(n)\n",
    "\n",
    "# --------------------------------------------------------------------------------------------\n",
    "        m=pd.concat([cc,cs,_is],axis=0)\n",
    "\n",
    "        writer = pd.ExcelWriter(excel_dir()+\"profile_%s%s.xlsx\"%(v,date_today), engine='xlsxwriter')\n",
    "#         writer2 = pd.ExcelWriter(excel_dir()+\"profile_%s_16_11_2022.xlsx\"%v, engine='xlsxwriter')\n",
    "        \n",
    "        \n",
    "        #summary\n",
    "        def get_summary(x,profile_name):\n",
    "            j=[x.shape[0],r.shape[0]-x.shape[0],r.shape[0]]\n",
    "            jj=[(x.shape[0]/r.shape[0])*100,((r.shape[0]-x.shape[0])/r.shape[0])*100,100]\n",
    "            g=pd.DataFrame({'N':j,'%':jj},index=['%s | Yes'%profile_name,'No','Total'])\n",
    "            return g\n",
    "        def meta(x,profile_name):\n",
    "            n_yes=x.shape[0]\n",
    "            return n_yes\n",
    "        \n",
    "        s0=get_summary(ce,\"Consistent User\")\n",
    "        s0.to_excel(writer,sheet_name = 'Summary',startrow=0)\n",
    "        check_population.append(meta(ce,\"Consistent User\"))\n",
    "        \n",
    "\n",
    "        s5=get_summary(ie,\"Inconsistent User\")\n",
    "        s5.to_excel(writer,sheet_name = 'Summary',startrow=5)\n",
    "        check_population.append(meta(ie,\"Consistent User\"))\n",
    "        # s10=get_summary(m,\"concurrent user\")\n",
    "        # s10.to_excel(writer,sheet_name = 'Summary',startrow=10)\n",
    "        s10=get_summary(cc,\"Concurrent User\")\n",
    "        s10.to_excel(writer,sheet_name = 'Summary',startrow=10)\n",
    "        check_population.append(meta(cc,\"Consistent User\"))\n",
    "        # s20=get_summary(cs,\"consistent sporadic\")\n",
    "        # s20.to_excel(writer,sheet_name = 'Summary',startrow=20)\n",
    "        # s25=get_summary(_is,\"inconsistent sporadic\")\n",
    "        # s25.to_excel(writer,sheet_name = 'Summary',startrow=25)\n",
    "        s15=get_summary(d,\"Stopper\")\n",
    "        s15.to_excel(writer,sheet_name = 'Summary',startrow=15)\n",
    "        check_population.append(meta(d,\"Consistent User\"))\n",
    "        s20=get_summary(s,\"Switcher\")\n",
    "        s20.to_excel(writer,sheet_name = 'Summary',startrow=20)\n",
    "        check_population.append(meta(s,\"Consistent User\"))\n",
    "        \n",
    "     \n",
    "     \n",
    "\n",
    "        \n",
    "        replaceables(ce)\n",
    "        ce.to_excel(writer,sheet_name = 'Consistent User', index=False)\n",
    "        replaceables(ie)\n",
    "        ie.to_excel(writer,sheet_name = 'Inconsistent User', index=False)\n",
    "        # replaceables(m)\n",
    "        # m.to_excel(writer,sheet_name = 'Concurrent User', index=False)\n",
    "        replaceables(cc)\n",
    "        cc.to_excel(writer,sheet_name = \"Concurrent User\", index=False)\n",
    "        # replaceables(cs)\n",
    "        # cs.to_excel(writer,sheet_name = \"Consistent Sporadic\", index=False)\n",
    "        # replaceables(_is)\n",
    "        # _is.to_excel(writer,sheet_name = \"Inconsistent Sporadic\", index=False)\n",
    "        replaceables(d)\n",
    "        d.to_excel(writer,sheet_name = 'Stopper', index=False)\n",
    "        replaceables(s)\n",
    "        s.to_excel(writer,sheet_name = 'Switcher', index=False)\n",
    "        \n",
    "        workbook  = writer.book\n",
    "        worksheet = writer.sheets[\"Summary\"]\n",
    "        data_format1 = workbook.add_format({'bg_color': '#b8fcff'})\n",
    "        data_format2 = workbook.add_format({'align': 'right'})\n",
    "        worksheet.set_column('A:A',30,cell_format=data_format2)\n",
    "        for i in range(0,22,5):\n",
    "            worksheet.set_row(i, cell_format=data_format1)\n",
    "        # worksheet.set_row(row, cell_format=data_format1)\n",
    "        l=[\"Consistent User\",\"Inconsistent User\",\"Concurrent User\",'Stopper','Switcher']\n",
    "        for i in l:\n",
    "            worksheet2 = writer.sheets[i]\n",
    "            data_format3 = workbook.add_format({'bg_color': '#b8fcff','bold':True,'text_wrap': True,'border':1})\n",
    "            # data_format2 = workbook.add_format({'align': 'right'})\n",
    "            worksheet2.set_row(0,cell_format=data_format3)\n",
    "            worksheet2.set_column('A:Z',15)\n",
    "        \n",
    "        #summary\n",
    "\n",
    "        writer.save()\n",
    "        print(f\"Profiles for {v} Generated!\")\n",
    "        # os.system(\"start EXCEL.EXE \"+excel_dir()+\"profile_%s%s.xlsx\"%(v,date_today))\n",
    "        \n",
    "new_profiles(strategies)"
   ]
  },
  {
   "cell_type": "markdown",
   "id": "effd0505",
   "metadata": {},
   "source": [
    "End!"
   ]
  },
  {
   "cell_type": "markdown",
   "id": "c51ca380-fddb-427a-b72f-013467495775",
   "metadata": {},
   "source": [
    "Check Population"
   ]
  },
  {
   "cell_type": "code",
   "execution_count": 31,
   "id": "7a1e46db-3333-4fc0-b3a3-e206b17051e9",
   "metadata": {},
   "outputs": [
    {
     "data": {
      "text/plain": [
       "188"
      ]
     },
     "execution_count": 31,
     "metadata": {},
     "output_type": "execute_result"
    }
   ],
   "source": [
    "check_population=np.array(check_population)\n",
    "check_population.sum()"
   ]
  },
  {
   "cell_type": "code",
   "execution_count": null,
   "id": "7b0efced-9f91-456c-9f96-5b0d44ad3e38",
   "metadata": {},
   "outputs": [],
   "source": []
  }
 ],
 "metadata": {
  "kernelspec": {
   "display_name": "Python 3 (ipykernel)",
   "language": "python",
   "name": "python3"
  },
  "language_info": {
   "codemirror_mode": {
    "name": "ipython",
    "version": 3
   },
   "file_extension": ".py",
   "mimetype": "text/x-python",
   "name": "python",
   "nbconvert_exporter": "python",
   "pygments_lexer": "ipython3",
   "version": "3.9.12"
  }
 },
 "nbformat": 4,
 "nbformat_minor": 5
}
